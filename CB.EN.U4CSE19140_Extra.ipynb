{
  "nbformat": 4,
  "nbformat_minor": 0,
  "metadata": {
    "colab": {
      "name": "Extra_Evaluation.ipynb",
      "provenance": [],
      "collapsed_sections": []
    },
    "kernelspec": {
      "name": "python3",
      "display_name": "Python 3"
    },
    "language_info": {
      "name": "python"
    }
  },
  "cells": [
    {
      "cell_type": "markdown",
      "metadata": {
        "id": "1UsrKhzTLHQc"
      },
      "source": [
        "Dataset for questions 1-3 may be loaded from this [link](https://raw.githubusercontent.com/Yorko/mlcourse.ai/master/data/telecom_churn.csv)."
      ]
    },
    {
      "cell_type": "code",
      "metadata": {
        "id": "hrWtCBYxOltT",
        "colab": {
          "base_uri": "https://localhost:8080/",
          "height": 241
        },
        "outputId": "0f3fc6b1-6a74-4696-ad6a-141f00a67ac1"
      },
      "source": [
        "import pandas as pd\n",
        "import numpy as np\n",
        "dataset = pd.read_csv('https://raw.githubusercontent.com/Yorko/mlcourse.ai/master/data/telecom_churn.csv')\n",
        "dataset.head()"
      ],
      "execution_count": 105,
      "outputs": [
        {
          "output_type": "execute_result",
          "data": {
            "text/html": [
              "<div>\n",
              "<style scoped>\n",
              "    .dataframe tbody tr th:only-of-type {\n",
              "        vertical-align: middle;\n",
              "    }\n",
              "\n",
              "    .dataframe tbody tr th {\n",
              "        vertical-align: top;\n",
              "    }\n",
              "\n",
              "    .dataframe thead th {\n",
              "        text-align: right;\n",
              "    }\n",
              "</style>\n",
              "<table border=\"1\" class=\"dataframe\">\n",
              "  <thead>\n",
              "    <tr style=\"text-align: right;\">\n",
              "      <th></th>\n",
              "      <th>State</th>\n",
              "      <th>Account length</th>\n",
              "      <th>Area code</th>\n",
              "      <th>International plan</th>\n",
              "      <th>Voice mail plan</th>\n",
              "      <th>Number vmail messages</th>\n",
              "      <th>Total day minutes</th>\n",
              "      <th>Total day calls</th>\n",
              "      <th>Total day charge</th>\n",
              "      <th>Total eve minutes</th>\n",
              "      <th>Total eve calls</th>\n",
              "      <th>Total eve charge</th>\n",
              "      <th>Total night minutes</th>\n",
              "      <th>Total night calls</th>\n",
              "      <th>Total night charge</th>\n",
              "      <th>Total intl minutes</th>\n",
              "      <th>Total intl calls</th>\n",
              "      <th>Total intl charge</th>\n",
              "      <th>Customer service calls</th>\n",
              "      <th>Churn</th>\n",
              "    </tr>\n",
              "  </thead>\n",
              "  <tbody>\n",
              "    <tr>\n",
              "      <th>0</th>\n",
              "      <td>KS</td>\n",
              "      <td>128</td>\n",
              "      <td>415</td>\n",
              "      <td>No</td>\n",
              "      <td>Yes</td>\n",
              "      <td>25</td>\n",
              "      <td>265.1</td>\n",
              "      <td>110</td>\n",
              "      <td>45.07</td>\n",
              "      <td>197.4</td>\n",
              "      <td>99</td>\n",
              "      <td>16.78</td>\n",
              "      <td>244.7</td>\n",
              "      <td>91</td>\n",
              "      <td>11.01</td>\n",
              "      <td>10.0</td>\n",
              "      <td>3</td>\n",
              "      <td>2.70</td>\n",
              "      <td>1</td>\n",
              "      <td>False</td>\n",
              "    </tr>\n",
              "    <tr>\n",
              "      <th>1</th>\n",
              "      <td>OH</td>\n",
              "      <td>107</td>\n",
              "      <td>415</td>\n",
              "      <td>No</td>\n",
              "      <td>Yes</td>\n",
              "      <td>26</td>\n",
              "      <td>161.6</td>\n",
              "      <td>123</td>\n",
              "      <td>27.47</td>\n",
              "      <td>195.5</td>\n",
              "      <td>103</td>\n",
              "      <td>16.62</td>\n",
              "      <td>254.4</td>\n",
              "      <td>103</td>\n",
              "      <td>11.45</td>\n",
              "      <td>13.7</td>\n",
              "      <td>3</td>\n",
              "      <td>3.70</td>\n",
              "      <td>1</td>\n",
              "      <td>False</td>\n",
              "    </tr>\n",
              "    <tr>\n",
              "      <th>2</th>\n",
              "      <td>NJ</td>\n",
              "      <td>137</td>\n",
              "      <td>415</td>\n",
              "      <td>No</td>\n",
              "      <td>No</td>\n",
              "      <td>0</td>\n",
              "      <td>243.4</td>\n",
              "      <td>114</td>\n",
              "      <td>41.38</td>\n",
              "      <td>121.2</td>\n",
              "      <td>110</td>\n",
              "      <td>10.30</td>\n",
              "      <td>162.6</td>\n",
              "      <td>104</td>\n",
              "      <td>7.32</td>\n",
              "      <td>12.2</td>\n",
              "      <td>5</td>\n",
              "      <td>3.29</td>\n",
              "      <td>0</td>\n",
              "      <td>False</td>\n",
              "    </tr>\n",
              "    <tr>\n",
              "      <th>3</th>\n",
              "      <td>OH</td>\n",
              "      <td>84</td>\n",
              "      <td>408</td>\n",
              "      <td>Yes</td>\n",
              "      <td>No</td>\n",
              "      <td>0</td>\n",
              "      <td>299.4</td>\n",
              "      <td>71</td>\n",
              "      <td>50.90</td>\n",
              "      <td>61.9</td>\n",
              "      <td>88</td>\n",
              "      <td>5.26</td>\n",
              "      <td>196.9</td>\n",
              "      <td>89</td>\n",
              "      <td>8.86</td>\n",
              "      <td>6.6</td>\n",
              "      <td>7</td>\n",
              "      <td>1.78</td>\n",
              "      <td>2</td>\n",
              "      <td>False</td>\n",
              "    </tr>\n",
              "    <tr>\n",
              "      <th>4</th>\n",
              "      <td>OK</td>\n",
              "      <td>75</td>\n",
              "      <td>415</td>\n",
              "      <td>Yes</td>\n",
              "      <td>No</td>\n",
              "      <td>0</td>\n",
              "      <td>166.7</td>\n",
              "      <td>113</td>\n",
              "      <td>28.34</td>\n",
              "      <td>148.3</td>\n",
              "      <td>122</td>\n",
              "      <td>12.61</td>\n",
              "      <td>186.9</td>\n",
              "      <td>121</td>\n",
              "      <td>8.41</td>\n",
              "      <td>10.1</td>\n",
              "      <td>3</td>\n",
              "      <td>2.73</td>\n",
              "      <td>3</td>\n",
              "      <td>False</td>\n",
              "    </tr>\n",
              "  </tbody>\n",
              "</table>\n",
              "</div>"
            ],
            "text/plain": [
              "  State  Account length  ...  Customer service calls  Churn\n",
              "0    KS             128  ...                       1  False\n",
              "1    OH             107  ...                       1  False\n",
              "2    NJ             137  ...                       0  False\n",
              "3    OH              84  ...                       2  False\n",
              "4    OK              75  ...                       3  False\n",
              "\n",
              "[5 rows x 20 columns]"
            ]
          },
          "metadata": {},
          "execution_count": 105
        }
      ]
    },
    {
      "cell_type": "markdown",
      "metadata": {
        "id": "JssNB5zSLW6J"
      },
      "source": [
        "Q1. How many records are there where the state name starts with 'W'?"
      ]
    },
    {
      "cell_type": "code",
      "metadata": {
        "id": "0cLcqjuKLWWF",
        "colab": {
          "base_uri": "https://localhost:8080/"
        },
        "outputId": "bc875481-7df8-42dc-928a-45c97b3a0967"
      },
      "source": [
        "def q1():\n",
        "    # Type your code here\n",
        "    c=dataset.loc[dataset['State'].apply(lambda x: x[0]=='W'),'State'].count()\n",
        "    return c\n",
        "\n",
        "q1()"
      ],
      "execution_count": 106,
      "outputs": [
        {
          "output_type": "execute_result",
          "data": {
            "text/plain": [
              "327"
            ]
          },
          "metadata": {},
          "execution_count": 106
        }
      ]
    },
    {
      "cell_type": "markdown",
      "metadata": {
        "id": "ok8YKTtKLgyG"
      },
      "source": [
        "Q2. What is the percentage of voice mail plan for churn=0 users?"
      ]
    },
    {
      "cell_type": "code",
      "metadata": {
        "id": "i-iywmJDLVsL",
        "colab": {
          "base_uri": "https://localhost:8080/"
        },
        "outputId": "d2ddddb7-a75a-4a7c-c823-907f198a1770"
      },
      "source": [
        "def q2():\n",
        "   c1=dataset.loc[(dataset['Churn']==False)&(dataset['Voice mail plan']=='Yes'),'Voice mail plan'].count()\n",
        "   c2=dataset.loc[(dataset['Churn']==False)&(dataset['Voice mail plan']=='No'),'Voice mail plan'].count()\n",
        "   \n",
        "   return (c1/(c2+c1))*100\n",
        "\n",
        "q2()"
      ],
      "execution_count": 107,
      "outputs": [
        {
          "output_type": "execute_result",
          "data": {
            "text/plain": [
              "29.543859649122805"
            ]
          },
          "metadata": {},
          "execution_count": 107
        }
      ]
    },
    {
      "cell_type": "markdown",
      "metadata": {
        "id": "zCm_D8CBL1Wx"
      },
      "source": [
        "Q3. How many customers made day calls below average for whom day charge was above average?"
      ]
    },
    {
      "cell_type": "code",
      "metadata": {
        "id": "zRN_2IEuLPgT",
        "colab": {
          "base_uri": "https://localhost:8080/"
        },
        "outputId": "5d9f2fcc-0bd4-472a-c25b-ecd0efc92e22"
      },
      "source": [
        "def q3():\n",
        "  day_call_avg=dataset['Total day calls'].mean()\n",
        "  day_charge_avg=dataset['Total day charge'].mean()\n",
        "  c=dataset.loc[((dataset['Total day calls']<day_call_avg) & (dataset['Total day charge']>day_charge_avg),'Area code')].count()\n",
        "  return c\n",
        "\n",
        "q3()"
      ],
      "execution_count": 108,
      "outputs": [
        {
          "output_type": "execute_result",
          "data": {
            "text/plain": [
              "811"
            ]
          },
          "metadata": {},
          "execution_count": 108
        }
      ]
    },
    {
      "cell_type": "markdown",
      "metadata": {
        "id": "5voNOEl2OZ3l"
      },
      "source": [
        "\n",
        "\n",
        "---\n",
        "\n"
      ]
    },
    {
      "cell_type": "code",
      "metadata": {
        "id": "P7UaPOLNOYAz"
      },
      "source": [
        "# Dataset for questions 4-7\n",
        "data = {'Refinery Location':['Baytown','Baton Rouge','Texas City','Lake Charles','Whiting','Beaumont','Philadelphia','Pascagoula','Deer Park','Wood River','Port Arthur'],\n",
        "        'Company':['Texas ExxonMobil','Louisiana ExxonMobil','Texas BP','Louisiana Citgo','Indiana BP','Texas ExxonMobil','Pennsylvania Sunoco','Mississippi Chevron','Texas partnership','Illinois WRB','Texas Premcor'],\n",
        "        'Capacity':['567,000','503,000','467,720','429,500','410,000','348,500','335,000','330,000','329,800','306,000','289,000']}"
      ],
      "execution_count": 109,
      "outputs": []
    },
    {
      "cell_type": "markdown",
      "metadata": {
        "id": "IBm5_Gg3OY7Q"
      },
      "source": [
        "Load the dictionary `data` created in the above block into a Pandas DataFrame named `df`."
      ]
    },
    {
      "cell_type": "code",
      "metadata": {
        "id": "7Kl5_To3PA91",
        "colab": {
          "base_uri": "https://localhost:8080/",
          "height": 394
        },
        "outputId": "209b650b-93f0-47dd-f0e6-e56930aba5d7"
      },
      "source": [
        "df = pd.DataFrame(data)\n",
        "df"
      ],
      "execution_count": 110,
      "outputs": [
        {
          "output_type": "execute_result",
          "data": {
            "text/html": [
              "<div>\n",
              "<style scoped>\n",
              "    .dataframe tbody tr th:only-of-type {\n",
              "        vertical-align: middle;\n",
              "    }\n",
              "\n",
              "    .dataframe tbody tr th {\n",
              "        vertical-align: top;\n",
              "    }\n",
              "\n",
              "    .dataframe thead th {\n",
              "        text-align: right;\n",
              "    }\n",
              "</style>\n",
              "<table border=\"1\" class=\"dataframe\">\n",
              "  <thead>\n",
              "    <tr style=\"text-align: right;\">\n",
              "      <th></th>\n",
              "      <th>Refinery Location</th>\n",
              "      <th>Company</th>\n",
              "      <th>Capacity</th>\n",
              "    </tr>\n",
              "  </thead>\n",
              "  <tbody>\n",
              "    <tr>\n",
              "      <th>0</th>\n",
              "      <td>Baytown</td>\n",
              "      <td>Texas ExxonMobil</td>\n",
              "      <td>567,000</td>\n",
              "    </tr>\n",
              "    <tr>\n",
              "      <th>1</th>\n",
              "      <td>Baton Rouge</td>\n",
              "      <td>Louisiana ExxonMobil</td>\n",
              "      <td>503,000</td>\n",
              "    </tr>\n",
              "    <tr>\n",
              "      <th>2</th>\n",
              "      <td>Texas City</td>\n",
              "      <td>Texas BP</td>\n",
              "      <td>467,720</td>\n",
              "    </tr>\n",
              "    <tr>\n",
              "      <th>3</th>\n",
              "      <td>Lake Charles</td>\n",
              "      <td>Louisiana Citgo</td>\n",
              "      <td>429,500</td>\n",
              "    </tr>\n",
              "    <tr>\n",
              "      <th>4</th>\n",
              "      <td>Whiting</td>\n",
              "      <td>Indiana BP</td>\n",
              "      <td>410,000</td>\n",
              "    </tr>\n",
              "    <tr>\n",
              "      <th>5</th>\n",
              "      <td>Beaumont</td>\n",
              "      <td>Texas ExxonMobil</td>\n",
              "      <td>348,500</td>\n",
              "    </tr>\n",
              "    <tr>\n",
              "      <th>6</th>\n",
              "      <td>Philadelphia</td>\n",
              "      <td>Pennsylvania Sunoco</td>\n",
              "      <td>335,000</td>\n",
              "    </tr>\n",
              "    <tr>\n",
              "      <th>7</th>\n",
              "      <td>Pascagoula</td>\n",
              "      <td>Mississippi Chevron</td>\n",
              "      <td>330,000</td>\n",
              "    </tr>\n",
              "    <tr>\n",
              "      <th>8</th>\n",
              "      <td>Deer Park</td>\n",
              "      <td>Texas partnership</td>\n",
              "      <td>329,800</td>\n",
              "    </tr>\n",
              "    <tr>\n",
              "      <th>9</th>\n",
              "      <td>Wood River</td>\n",
              "      <td>Illinois WRB</td>\n",
              "      <td>306,000</td>\n",
              "    </tr>\n",
              "    <tr>\n",
              "      <th>10</th>\n",
              "      <td>Port Arthur</td>\n",
              "      <td>Texas Premcor</td>\n",
              "      <td>289,000</td>\n",
              "    </tr>\n",
              "  </tbody>\n",
              "</table>\n",
              "</div>"
            ],
            "text/plain": [
              "   Refinery Location               Company Capacity\n",
              "0            Baytown      Texas ExxonMobil  567,000\n",
              "1        Baton Rouge  Louisiana ExxonMobil  503,000\n",
              "2         Texas City              Texas BP  467,720\n",
              "3       Lake Charles       Louisiana Citgo  429,500\n",
              "4            Whiting            Indiana BP  410,000\n",
              "5           Beaumont      Texas ExxonMobil  348,500\n",
              "6       Philadelphia   Pennsylvania Sunoco  335,000\n",
              "7         Pascagoula   Mississippi Chevron  330,000\n",
              "8          Deer Park     Texas partnership  329,800\n",
              "9         Wood River          Illinois WRB  306,000\n",
              "10       Port Arthur         Texas Premcor  289,000"
            ]
          },
          "metadata": {},
          "execution_count": 110
        }
      ]
    },
    {
      "cell_type": "markdown",
      "metadata": {
        "id": "lCPHvdFfPDuJ"
      },
      "source": [
        "Q4. What is the IQR for the 'Capacity' attribute?"
      ]
    },
    {
      "cell_type": "code",
      "metadata": {
        "id": "DLTLk2YkPIQK",
        "colab": {
          "base_uri": "https://localhost:8080/"
        },
        "outputId": "2bea1bf5-498d-41f0-a407-28f23f375ce7"
      },
      "source": [
        "def q4():\n",
        "  for i in range(df.shape[0]):\n",
        "      df['Capacity'][i] = df['Capacity'][i].replace(\",\",\"\")\n",
        "  \n",
        "  q1 = df['Capacity'].astype(float).quantile(0.25)\n",
        "  q3 = df['Capacity'].astype(float).quantile(0.75)\n",
        "  IQR = q3 - q1\n",
        "  return IQR\n",
        "q4()"
      ],
      "execution_count": 111,
      "outputs": [
        {
          "output_type": "execute_result",
          "data": {
            "text/plain": [
              "118710.0"
            ]
          },
          "metadata": {},
          "execution_count": 111
        }
      ]
    },
    {
      "cell_type": "markdown",
      "metadata": {
        "id": "f7rUcJ7XP3Yt"
      },
      "source": [
        "Q5. Compute the skewness and kurtosis of the 'Capacity' attribute, rounded off two two decimal places."
      ]
    },
    {
      "cell_type": "code",
      "metadata": {
        "id": "Srv8mSTMP8mN",
        "colab": {
          "base_uri": "https://localhost:8080/"
        },
        "outputId": "09f6b86f-2e90-48f7-b30b-02fdc92feb80"
      },
      "source": [
        "def q5():\n",
        "  kurtosis_value=round(df['Capacity'].kurt(),2)\n",
        "  skewness_value=round(df['Capacity'].skew(),2)\n",
        "  return (skewness_value, kurtosis_value)\n",
        "\n",
        "q5()"
      ],
      "execution_count": 112,
      "outputs": [
        {
          "output_type": "execute_result",
          "data": {
            "text/plain": [
              "(0.78, -0.48)"
            ]
          },
          "metadata": {},
          "execution_count": 112
        }
      ]
    },
    {
      "cell_type": "markdown",
      "metadata": {
        "id": "fvwz6PrNTDB_"
      },
      "source": [
        "\n",
        "\n",
        "---\n",
        "\n"
      ]
    },
    {
      "cell_type": "markdown",
      "metadata": {
        "id": "BZab4Pv7TFUp"
      },
      "source": [
        "Import necessary libraries for Regression questions 6-8. Dataset can be loaded form [here](https://raw.githubusercontent.com/dayanandv/Data-Science/main/dataset/dataset1.csv)."
      ]
    },
    {
      "cell_type": "code",
      "metadata": {
        "id": "C41Eu_wETEIQ"
      },
      "source": [
        "from sklearn.model_selection import train_test_split\n",
        "import numpy as np\n",
        "from sklearn.linear_model import LinearRegression\n",
        "from sklearn.metrics import mean_squared_error\n",
        "df = pd.read_csv(\"https://raw.githubusercontent.com/dayanandv/Data-Science/main/dataset/dataset1.csv\",encoding='utf-16')\n",
        "X = df['X']\n",
        "Y = df['Y']\n",
        "X_train, X_test, y_train, y_test = train_test_split(df['X'], df['Y'], test_size=0.33, random_state=42)\n",
        "X_train = np.array(X_train)\n",
        "X_test = np.array(X_test)\n",
        "y_train = np.array(y_train)\n",
        "y_test = np.array(y_test)"
      ],
      "execution_count": 113,
      "outputs": []
    },
    {
      "cell_type": "markdown",
      "metadata": {
        "id": "TCDz6OVsjnrt"
      },
      "source": [
        "Load data into DataFrame, split into X and Y, split DataFrame further into train (2/3rd) and test (1/3rd)."
      ]
    },
    {
      "cell_type": "code",
      "metadata": {
        "id": "WiBW3ohqjsWM"
      },
      "source": [
        ""
      ],
      "execution_count": 113,
      "outputs": []
    },
    {
      "cell_type": "markdown",
      "metadata": {
        "id": "vWFfeSQ-g7HD"
      },
      "source": [
        "Q6. Build a Linear Regression model by hand and calculate the coeffcients b1 and b0 for the model."
      ]
    },
    {
      "cell_type": "code",
      "metadata": {
        "id": "hfMnXLo1gtWo",
        "colab": {
          "base_uri": "https://localhost:8080/"
        },
        "outputId": "51bdb35d-68f3-4209-a359-d1039a1ad1f2"
      },
      "source": [
        "def q6(): \n",
        "  # Mean X and Y\n",
        "  mean_x = np.mean(X.values)\n",
        "  mean_y = np.mean(Y.values)\n",
        "\n",
        "  # Total number of values\n",
        "  n = len(X)\n",
        "\n",
        "  # Using the formula to calculate b1 and b2\n",
        "  numer = 0\n",
        "  denom = 0\n",
        "  for i in range(n):\n",
        "      numer += (X[i] - mean_x) * (Y[i] - mean_y)\n",
        "      denom += (X[i] - mean_x) ** 2\n",
        "  b1 = numer / denom\n",
        "  b0 = mean_y - (b1 * mean_x)\n",
        "\n",
        "  # Return coefficients\n",
        "  return b1, b0\n",
        "\n",
        "q6()"
      ],
      "execution_count": 114,
      "outputs": [
        {
          "output_type": "execute_result",
          "data": {
            "text/plain": [
              "(1.8194996275037996, 12.508563136839996)"
            ]
          },
          "metadata": {},
          "execution_count": 114
        }
      ]
    },
    {
      "cell_type": "markdown",
      "metadata": {
        "id": "CZd0J5Siijon"
      },
      "source": [
        "Q7. Build a Linear Regression model using sklearn and compute the absolute difference in RMSE of the predictions on the X_test data when you compare it to the model built in Q6."
      ]
    },
    {
      "cell_type": "code",
      "metadata": {
        "id": "WXLwyBX3j5p5",
        "colab": {
          "base_uri": "https://localhost:8080/"
        },
        "outputId": "63bd8eeb-3a45-4d40-a5bb-afe13c113f30"
      },
      "source": [
        "def q7():\n",
        "  prediction = []\n",
        "  m, b = q6()\n",
        "  for x in X_test:\n",
        "    y = m*x + b\n",
        "    prediction.append(y)\n",
        "  reg = LinearRegression().fit(X_train.reshape(-1, 1), Y_train)\n",
        "  y_pred = reg.predict(X_test.reshape(-1, 1))\n",
        "\n",
        "  difference_in_rmse = mean_squared_error(prediction, y_pred,squared=False)\n",
        "  return difference_in_rmse\n",
        "\n",
        "q7()"
      ],
      "execution_count": 115,
      "outputs": [
        {
          "output_type": "execute_result",
          "data": {
            "text/plain": [
              "3.8661417068018054"
            ]
          },
          "metadata": {},
          "execution_count": 115
        }
      ]
    }
  ]
}